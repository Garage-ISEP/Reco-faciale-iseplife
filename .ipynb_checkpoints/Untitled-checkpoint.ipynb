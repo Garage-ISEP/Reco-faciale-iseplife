{
 "cells": [
  {
   "cell_type": "code",
   "execution_count": 1,
   "id": "deb4aae6",
   "metadata": {},
   "outputs": [
    {
     "name": "stdout",
     "output_type": "stream",
     "text": [
      "Collecting opencv-python\n",
      "  Using cached opencv_python-4.8.1.78-cp37-abi3-win_amd64.whl (38.1 MB)\n",
      "Requirement already satisfied: numpy>=1.19.3 in c:\\users\\lilia\\anaconda3\\lib\\site-packages (from opencv-python) (1.23.5)\n",
      "Installing collected packages: opencv-python\n",
      "Successfully installed opencv-python-4.8.1.78\n"
     ]
    }
   ],
   "source": [
    "! pip install opencv-python"
   ]
  },
  {
   "cell_type": "code",
   "execution_count": 2,
   "id": "dc67d2e8",
   "metadata": {},
   "outputs": [],
   "source": [
    "import cv2"
   ]
  },
  {
   "cell_type": "code",
   "execution_count": 3,
   "id": "6122e76c",
   "metadata": {},
   "outputs": [
    {
     "name": "stdout",
     "output_type": "stream",
     "text": [
      "Microsoft Windows [version 10.0.22621.2283]\n",
      "(c) Microsoft Corporation. Tous droits r�serv�s.\n",
      "\n",
      "(base) C:\\Users\\lilia\\OneDrive\\Bureau\\ML\\iseplife>where python\n",
      "C:\\Users\\lilia\\anaconda3\\python.exe\n",
      "C:\\Program Files\\Python311\\python.exe\n",
      "C:\\Users\\lilia\\AppData\\Local\\Microsoft\\WindowsApps\\python.exe\n",
      "\n",
      "(base) C:\\Users\\lilia\\OneDrive\\Bureau\\ML\\iseplife>"
     ]
    }
   ],
   "source": [
    "%%cmd\n",
    "where python"
   ]
  },
  {
   "cell_type": "code",
   "execution_count": 4,
   "id": "8806704c",
   "metadata": {},
   "outputs": [
    {
     "name": "stdout",
     "output_type": "stream",
     "text": [
      "Microsoft Windows [version 10.0.22621.2283]\n",
      "(c) Microsoft Corporation. Tous droits r�serv�s.\n",
      "\n",
      "(base) C:\\Users\\lilia\\OneDrive\\Bureau\\ML\\iseplife>pip install face-recognition\n",
      "Collecting face-recognition\n",
      "  Using cached face_recognition-1.3.0-py2.py3-none-any.whl (15 kB)\n",
      "Collecting dlib>=19.7\n",
      "  Using cached dlib-19.24.2.tar.gz (11.8 MB)\n",
      "  Installing build dependencies: started\n",
      "  Installing build dependencies: finished with status 'done'\n",
      "  Getting requirements to build wheel: started\n",
      "  Getting requirements to build wheel: finished with status 'done'\n",
      "  Preparing metadata (pyproject.toml): started\n",
      "  Preparing metadata (pyproject.toml): finished with status 'done'\n",
      "Requirement already satisfied: Click>=6.0 in c:\\users\\lilia\\anaconda3\\lib\\site-packages (from face-recognition) (8.0.4)\n",
      "Requirement already satisfied: numpy in c:\\users\\lilia\\anaconda3\\lib\\site-packages (from face-recognition) (1.23.5)\n",
      "Requirement already satisfied: Pillow in c:\\users\\lilia\\anaconda3\\lib\\site-packages (from face-recognition) (9.4.0)\n",
      "Collecting face-recognition-models>=0.3.0\n",
      "  Using cached face_recognition_models-0.3.0.tar.gz (100.1 MB)\n",
      "  Preparing metadata (setup.py): started\n",
      "  Preparing metadata (setup.py): finished with status 'done'\n",
      "Requirement already satisfied: colorama in c:\\users\\lilia\\anaconda3\\lib\\site-packages (from Click>=6.0->face-recognition) (0.4.6)\n",
      "Building wheels for collected packages: dlib, face-recognition-models\n",
      "  Building wheel for dlib (pyproject.toml): started\n",
      "  Building wheel for dlib (pyproject.toml): finished with status 'error'\n"
     ]
    },
    {
     "name": "stderr",
     "output_type": "stream",
     "text": [
      "  error: subprocess-exited-with-error\n",
      "  \n",
      "  Building wheel for dlib (pyproject.toml) did not run successfully.\n",
      "  exit code: 1\n",
      "  \n",
      "  [73 lines of output]\n",
      "  running bdist_wheel\n",
      "  running build\n",
      "  running build_ext\n",
      "  <string>:125: DeprecationWarning: distutils Version classes are deprecated. Use packaging.version instead.\n",
      "  Building extension for Python 3.10.9 | packaged by Anaconda, Inc. | (main, Mar  1 2023, 18:18:15) [MSC v.1916 64 bit (AMD64)]\n",
      "  Invoking CMake setup: 'cmake C:\\Users\\lilia\\AppData\\Local\\Temp\\pip-install-s33815hu\\dlib_60eff4ac0f654ddf9bfdd5156a58e01f\\tools\\python -DCMAKE_LIBRARY_OUTPUT_DIRECTORY=C:\\Users\\lilia\\AppData\\Local\\Temp\\pip-install-s33815hu\\dlib_60eff4ac0f654ddf9bfdd5156a58e01f\\build\\lib.win-amd64-cpython-310 -DPYTHON_EXECUTABLE=C:\\Users\\lilia\\anaconda3\\python.exe -DCMAKE_LIBRARY_OUTPUT_DIRECTORY_RELEASE=C:\\Users\\lilia\\AppData\\Local\\Temp\\pip-install-s33815hu\\dlib_60eff4ac0f654ddf9bfdd5156a58e01f\\build\\lib.win-amd64-cpython-310 -A x64'\n",
      "  -- Building for: NMake Makefiles\n",
      "  CMake Error at CMakeLists.txt:5 (message):\n",
      "  \n",
      "  \n",
      "  \n",
      "    !!!!!!!!!!!!!!!!!!!!!!!!!!!!!!!!!!!!!!!!!!!!!!!!!!!!!!!!!!!!!!!!!!!!!!!!!!!!!!!\n",
      "  \n",
      "  \n",
      "    You must use Visual Studio to build a python extension on windows.  If you\n",
      "    are getting this error it means you have not installed Visual C++.  Note\n",
      "    that there are many flavors of Visual Studio, like Visual Studio for C#\n",
      "    development.  You need to install Visual Studio for C++.\n",
      "  \n",
      "  \n",
      "    !!!!!!!!!!!!!!!!!!!!!!!!!!!!!!!!!!!!!!!!!!!!!!!!!!!!!!!!!!!!!!!!!!!!!!!!!!!!!!!\n",
      "  \n",
      "  \n",
      "  \n",
      "  \n",
      "  -- Configuring incomplete, errors occurred!\n",
      "  Traceback (most recent call last):\n",
      "    File \"C:\\Users\\lilia\\anaconda3\\lib\\site-packages\\pip\\_vendor\\pep517\\in_process\\_in_process.py\", line 351, in <module>\n",
      "      main()\n",
      "    File \"C:\\Users\\lilia\\anaconda3\\lib\\site-packages\\pip\\_vendor\\pep517\\in_process\\_in_process.py\", line 333, in main\n",
      "      json_out['return_val'] = hook(**hook_input['kwargs'])\n",
      "    File \"C:\\Users\\lilia\\anaconda3\\lib\\site-packages\\pip\\_vendor\\pep517\\in_process\\_in_process.py\", line 249, in build_wheel\n",
      "      return _build_backend().build_wheel(wheel_directory, config_settings,\n",
      "    File \"C:\\Users\\lilia\\AppData\\Local\\Temp\\pip-build-env-zh4mti9a\\overlay\\Lib\\site-packages\\setuptools\\build_meta.py\", line 434, in build_wheel\n",
      "      return self._build_with_temp_dir(\n",
      "    File \"C:\\Users\\lilia\\AppData\\Local\\Temp\\pip-build-env-zh4mti9a\\overlay\\Lib\\site-packages\\setuptools\\build_meta.py\", line 419, in _build_with_temp_dir\n",
      "      self.run_setup()\n",
      "    File \"C:\\Users\\lilia\\AppData\\Local\\Temp\\pip-build-env-zh4mti9a\\overlay\\Lib\\site-packages\\setuptools\\build_meta.py\", line 341, in run_setup\n",
      "      exec(code, locals())\n",
      "    File \"<string>\", line 218, in <module>\n",
      "    File \"C:\\Users\\lilia\\AppData\\Local\\Temp\\pip-build-env-zh4mti9a\\overlay\\Lib\\site-packages\\setuptools\\__init__.py\", line 103, in setup\n",
      "      return distutils.core.setup(**attrs)\n",
      "    File \"C:\\Users\\lilia\\AppData\\Local\\Temp\\pip-build-env-zh4mti9a\\overlay\\Lib\\site-packages\\setuptools\\_distutils\\core.py\", line 185, in setup\n",
      "      return run_commands(dist)\n",
      "    File \"C:\\Users\\lilia\\AppData\\Local\\Temp\\pip-build-env-zh4mti9a\\overlay\\Lib\\site-packages\\setuptools\\_distutils\\core.py\", line 201, in run_commands\n",
      "      dist.run_commands()\n",
      "    File \"C:\\Users\\lilia\\AppData\\Local\\Temp\\pip-build-env-zh4mti9a\\overlay\\Lib\\site-packages\\setuptools\\_distutils\\dist.py\", line 969, in run_commands\n",
      "      self.run_command(cmd)\n",
      "    File \"C:\\Users\\lilia\\AppData\\Local\\Temp\\pip-build-env-zh4mti9a\\overlay\\Lib\\site-packages\\setuptools\\dist.py\", line 989, in run_command\n",
      "      super().run_command(command)\n",
      "    File \"C:\\Users\\lilia\\AppData\\Local\\Temp\\pip-build-env-zh4mti9a\\overlay\\Lib\\site-packages\\setuptools\\_distutils\\dist.py\", line 988, in run_command\n",
      "      cmd_obj.run()\n",
      "    File \"C:\\Users\\lilia\\AppData\\Local\\Temp\\pip-build-env-zh4mti9a\\overlay\\Lib\\site-packages\\wheel\\bdist_wheel.py\", line 364, in run\n",
      "      self.run_command(\"build\")\n",
      "    File \"C:\\Users\\lilia\\AppData\\Local\\Temp\\pip-build-env-zh4mti9a\\overlay\\Lib\\site-packages\\setuptools\\_distutils\\cmd.py\", line 318, in run_command\n",
      "      self.distribution.run_command(command)\n",
      "    File \"C:\\Users\\lilia\\AppData\\Local\\Temp\\pip-build-env-zh4mti9a\\overlay\\Lib\\site-packages\\setuptools\\dist.py\", line 989, in run_command\n",
      "      super().run_command(command)\n",
      "    File \"C:\\Users\\lilia\\AppData\\Local\\Temp\\pip-build-env-zh4mti9a\\overlay\\Lib\\site-packages\\setuptools\\_distutils\\dist.py\", line 988, in run_command\n",
      "      cmd_obj.run()\n",
      "    File \"C:\\Users\\lilia\\AppData\\Local\\Temp\\pip-build-env-zh4mti9a\\overlay\\Lib\\site-packages\\setuptools\\_distutils\\command\\build.py\", line 131, in run\n",
      "      self.run_command(cmd_name)\n",
      "    File \"C:\\Users\\lilia\\AppData\\Local\\Temp\\pip-build-env-zh4mti9a\\overlay\\Lib\\site-packages\\setuptools\\_distutils\\cmd.py\", line 318, in run_command\n",
      "      self.distribution.run_command(command)\n",
      "    File \"C:\\Users\\lilia\\AppData\\Local\\Temp\\pip-build-env-zh4mti9a\\overlay\\Lib\\site-packages\\setuptools\\dist.py\", line 989, in run_command\n",
      "      super().run_command(command)\n",
      "    File \"C:\\Users\\lilia\\AppData\\Local\\Temp\\pip-build-env-zh4mti9a\\overlay\\Lib\\site-packages\\setuptools\\_distutils\\dist.py\", line 988, in run_command\n",
      "      cmd_obj.run()\n",
      "    File \"<string>\", line 130, in run\n",
      "    File \"<string>\", line 167, in build_extension\n",
      "    File \"C:\\Users\\lilia\\anaconda3\\lib\\subprocess.py\", line 369, in check_call\n",
      "      raise CalledProcessError(retcode, cmd)\n",
      "  subprocess.CalledProcessError: Command '['cmake', 'C:\\\\Users\\\\lilia\\\\AppData\\\\Local\\\\Temp\\\\pip-install-s33815hu\\\\dlib_60eff4ac0f654ddf9bfdd5156a58e01f\\\\tools\\\\python', '-DCMAKE_LIBRARY_OUTPUT_DIRECTORY=C:\\\\Users\\\\lilia\\\\AppData\\\\Local\\\\Temp\\\\pip-install-s33815hu\\\\dlib_60eff4ac0f654ddf9bfdd5156a58e01f\\\\build\\\\lib.win-amd64-cpython-310', '-DPYTHON_EXECUTABLE=C:\\\\Users\\\\lilia\\\\anaconda3\\\\python.exe', '-DCMAKE_LIBRARY_OUTPUT_DIRECTORY_RELEASE=C:\\\\Users\\\\lilia\\\\AppData\\\\Local\\\\Temp\\\\pip-install-s33815hu\\\\dlib_60eff4ac0f654ddf9bfdd5156a58e01f\\\\build\\\\lib.win-amd64-cpython-310', '-A', 'x64']' returned non-zero exit status 1.\n",
      "  [end of output]\n",
      "  \n",
      "  note: This error originates from a subprocess, and is likely not a problem with pip.\n",
      "  ERROR: Failed building wheel for dlib\n"
     ]
    },
    {
     "name": "stdout",
     "output_type": "stream",
     "text": [
      "  Building wheel for face-recognition-models (setup.py): started\n",
      "  Building wheel for face-recognition-models (setup.py): finished with status 'done'\n",
      "  Created wheel for face-recognition-models: filename=face_recognition_models-0.3.0-py2.py3-none-any.whl size=100566184 sha256=3631f376f0ab94638e08761b810831ece5110e567788856c3e68b9c2b2dae7f8\n",
      "  Stored in directory: c:\\users\\lilia\\appdata\\local\\pip\\cache\\wheels\\3a\\81\\70\\bb23245d63de9e0f53fc67dc6f30d871d443521aa026808210\n",
      "Successfully built face-recognition-models\n",
      "Failed to build dlib\n"
     ]
    },
    {
     "name": "stderr",
     "output_type": "stream",
     "text": [
      "ERROR: Could not build wheels for dlib, which is required to install pyproject.toml-based projects\r\n"
     ]
    },
    {
     "name": "stdout",
     "output_type": "stream",
     "text": [
      "\n",
      "(base) C:\\Users\\lilia\\OneDrive\\Bureau\\ML\\iseplife>"
     ]
    }
   ],
   "source": [
    "%%cmd\n",
    "pip install face-recognition"
   ]
  },
  {
   "cell_type": "code",
   "execution_count": 6,
   "id": "d7e0cbfa",
   "metadata": {},
   "outputs": [
    {
     "name": "stdout",
     "output_type": "stream",
     "text": [
      "Microsoft Windows [version 10.0.22621.2283]\n",
      "(c) Microsoft Corporation. Tous droits r�serv�s.\n",
      "\n",
      "(base) C:\\Users\\lilia\\OneDrive\\Bureau\\ML\\iseplife>python --version\n",
      "Python 3.10.9\n",
      "\n",
      "(base) C:\\Users\\lilia\\OneDrive\\Bureau\\ML\\iseplife>"
     ]
    }
   ],
   "source": [
    "%%cmd\n",
    "python --version"
   ]
  },
  {
   "cell_type": "code",
   "execution_count": 8,
   "id": "e3de7e7c",
   "metadata": {},
   "outputs": [
    {
     "name": "stdout",
     "output_type": "stream",
     "text": [
      "Microsoft Windows [version 10.0.22621.2283]\n",
      "(c) Microsoft Corporation. Tous droits r�serv�s.\n",
      "\n",
      "(base) C:\\Users\\lilia\\OneDrive\\Bureau\\ML\\iseplife>pip install cmake\n",
      "Collecting cmake\n",
      "  Using cached cmake-3.27.7-py2.py3-none-win_amd64.whl (34.6 MB)\n",
      "Installing collected packages: cmake\n",
      "Successfully installed cmake-3.27.7\n",
      "\n",
      "(base) C:\\Users\\lilia\\OneDrive\\Bureau\\ML\\iseplife>"
     ]
    }
   ],
   "source": [
    "%%cmd\n",
    "pip install cmake"
   ]
  },
  {
   "cell_type": "code",
   "execution_count": 9,
   "id": "ea566a93",
   "metadata": {},
   "outputs": [
    {
     "name": "stdout",
     "output_type": "stream",
     "text": [
      "Microsoft Windows [version 10.0.22621.2283]\n",
      "(c) Microsoft Corporation. Tous droits r�serv�s.\n",
      "\n",
      "(base) C:\\Users\\lilia\\OneDrive\\Bureau\\ML\\iseplife>pip install https://github.com/jloh02/dlib/releases/download/v19.22/dlib-19.22.99-cp310-cp310-win_amd64.whl\n",
      "Collecting dlib==19.22.99\n",
      "  Downloading https://github.com/jloh02/dlib/releases/download/v19.22/dlib-19.22.99-cp310-cp310-win_amd64.whl (3.0 MB)\n",
      "     ---------------------------------------- 3.0/3.0 MB 4.0 MB/s eta 0:00:00\n",
      "Installing collected packages: dlib\n",
      "Successfully installed dlib-19.22.99\n",
      "\n",
      "(base) C:\\Users\\lilia\\OneDrive\\Bureau\\ML\\iseplife>"
     ]
    }
   ],
   "source": [
    "%%cmd\n",
    "pip install https://github.com/jloh02/dlib/releases/download/v19.22/dlib-19.22.99-cp310-cp310-win_amd64.whl"
   ]
  },
  {
   "cell_type": "code",
   "execution_count": 11,
   "id": "5e4ce906",
   "metadata": {},
   "outputs": [
    {
     "name": "stdout",
     "output_type": "stream",
     "text": [
      "Microsoft Windows [version 10.0.22621.2283]\n",
      "(c) Microsoft Corporation. Tous droits r�serv�s.\n",
      "\n",
      "(base) C:\\Users\\lilia\\OneDrive\\Bureau\\ML\\iseplife>pip install face-recognition\n",
      "Collecting face-recognition\n",
      "  Using cached face_recognition-1.3.0-py2.py3-none-any.whl (15 kB)\n",
      "Requirement already satisfied: Click>=6.0 in c:\\users\\lilia\\anaconda3\\lib\\site-packages (from face-recognition) (8.0.4)\n",
      "Collecting face-recognition-models>=0.3.0\n",
      "  Using cached face_recognition_models-0.3.0-py2.py3-none-any.whl\n",
      "Requirement already satisfied: Pillow in c:\\users\\lilia\\anaconda3\\lib\\site-packages (from face-recognition) (9.4.0)\n",
      "Requirement already satisfied: dlib>=19.7 in c:\\users\\lilia\\anaconda3\\lib\\site-packages (from face-recognition) (19.22.99)\n",
      "Requirement already satisfied: numpy in c:\\users\\lilia\\anaconda3\\lib\\site-packages (from face-recognition) (1.23.5)\n",
      "Requirement already satisfied: colorama in c:\\users\\lilia\\anaconda3\\lib\\site-packages (from Click>=6.0->face-recognition) (0.4.6)\n",
      "Installing collected packages: face-recognition-models, face-recognition\n",
      "Successfully installed face-recognition-1.3.0 face-recognition-models-0.3.0\n",
      "\n",
      "(base) C:\\Users\\lilia\\OneDrive\\Bureau\\ML\\iseplife>"
     ]
    }
   ],
   "source": [
    "%%cmd\n",
    "pip install face-recognition"
   ]
  },
  {
   "cell_type": "code",
   "execution_count": null,
   "id": "1f802aa1",
   "metadata": {},
   "outputs": [],
   "source": [
    "import face_recognition\n",
    "# Charger les images et les encodages des visages (base de données)\n",
    "image1 = face_recognition.load_image_file(\"photos/test.jpg\")\n",
    "\n",
    "encoding=[]\n",
    "for i in range(len(face_recognition.face_encodings(image1))):\n",
    "    encoding.append(face_recognition.face_encodings(image1)[i])\n",
    "\n",
    "image2 = face_recognition.load_image_file(\"photos/test_ben.jpg\")\n",
    "ben = face_recognition.face_encodings(image2)[0]\n",
    "\n",
    "# Comparer les encodages pour déterminer si les visages correspondent\n",
    "for i in range(len(encoding)):\n",
    "    result = face_recognition.compare_faces([encoding[i]], ben)\n",
    "\n",
    "    if result[0]:\n",
    "        print(\"Les visages correspondent.\")\n",
    "    else:\n",
    "        print(\"Les visages ne correspondent pas.\")"
   ]
  },
  {
   "cell_type": "code",
   "execution_count": null,
   "id": "11d3109b",
   "metadata": {},
   "outputs": [],
   "source": []
  }
 ],
 "metadata": {
  "kernelspec": {
   "display_name": "Python 3 (ipykernel)",
   "language": "python",
   "name": "python3"
  },
  "language_info": {
   "codemirror_mode": {
    "name": "ipython",
    "version": 3
   },
   "file_extension": ".py",
   "mimetype": "text/x-python",
   "name": "python",
   "nbconvert_exporter": "python",
   "pygments_lexer": "ipython3",
   "version": "3.10.9"
  }
 },
 "nbformat": 4,
 "nbformat_minor": 5
}
